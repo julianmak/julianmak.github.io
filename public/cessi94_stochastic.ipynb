{
 "cells": [
  {
   "cell_type": "code",
   "execution_count": 4,
   "metadata": {},
   "outputs": [],
   "source": [
    "# JM 07 Feb 20\n",
    "# time-steps the Cessi (1994) salinity equation with stochastic noise (just Forward Euler)\n",
    "\n",
    "import numpy as np\n",
    "import matplotlib.pyplot as plt\n",
    "\n",
    "# could speed this up quite a bit with numba+JIT but nah (fewer extra packages required)...\n",
    "def sigma_time_step(sigma, eta, mu, noise_level, seed_init = None):\n",
    "    # initialise RNG (specify specific seed to make RNG reproducible)\n",
    "    np.random.seed(seed_init)\n",
    "    for i in range(len(t_vec) - 1):\n",
    "        noise = noise_level * np.random.normal(0.0, 1.0) # random number in [-1, 1]\n",
    "        sigma[i + 1] = sigma[i] + dt * (  eta \n",
    "                                        + noise \n",
    "                                        - 2.0 * sigma[i] * (1.0 + mu * (1.0 - sigma[i]) ** 2)\n",
    "                                       )\n",
    "    return sigma"
   ]
  },
  {
   "cell_type": "code",
   "execution_count": null,
   "metadata": {},
   "outputs": [],
   "source": [
    "dt = 2.5e-3\n",
    "t_vec = np.arange(0, 500, dt)\n",
    "sigma_init = 0.1\n",
    "\n",
    "eta = 2.2\n",
    "mu = 6.2\n",
    "noise_level = 6\n",
    "\n",
    "sigma = np.zeros((len(t_vec), 3))\n",
    "sigma[0, :] = sigma_init\n",
    "\n",
    "# do it a few times\n",
    "sigma[:, 0] = sigma_time_step(sigma[:, 0], eta, mu, noise_level)\n",
    "sigma[:, 1] = sigma_time_step(sigma[:, 1], eta, mu, noise_level)\n",
    "sigma[:, 2] = sigma_time_step(sigma[:, 2], eta, mu, noise_level)"
   ]
  },
  {
   "cell_type": "code",
   "execution_count": null,
   "metadata": {},
   "outputs": [],
   "source": [
    "# plot out the realisations (but at a more sparse spacing for visualisation purposes)\n",
    "\n",
    "fig = plt.figure(figsize = (10, 3))\n",
    "ax = plt.axes()\n",
    "\n",
    "spacing = 400\n",
    "\n",
    "ax.plot(t_vec[::spacing], sigma[::spacing, 0], 'r', alpha = 0.8)\n",
    "ax.plot(t_vec[::spacing], sigma[::spacing, 1], 'b', alpha = 0.5)\n",
    "ax.plot(t_vec[::spacing], sigma[::spacing, 2], 'g', alpha = 0.5)\n",
    "\n",
    "ax.grid()\n",
    "ax.set_xlabel(r\"$t$ (diffusion time)\")\n",
    "ax.set_ylabel(r\"(non-dim) $\\sigma$\")\n",
    "ax.set_xlim((t_vec[0], t_vec[-1]))\n",
    "ax.set_ylim((0.0, 1.5))\n",
    "ax.set_title(r\"realisations of Cessi (1994)\")\n",
    "\n",
    "fig.savefig(\"../figures/cessi94.png\", dpi = 150)"
   ]
  },
  {
   "cell_type": "code",
   "execution_count": null,
   "metadata": {},
   "outputs": [],
   "source": []
  }
 ],
 "metadata": {
  "kernelspec": {
   "display_name": "Python 3",
   "language": "python",
   "name": "python3"
  },
  "language_info": {
   "codemirror_mode": {
    "name": "ipython",
    "version": 3
   },
   "file_extension": ".py",
   "mimetype": "text/x-python",
   "name": "python",
   "nbconvert_exporter": "python",
   "pygments_lexer": "ipython3",
   "version": "3.7.5"
  }
 },
 "nbformat": 4,
 "nbformat_minor": 2
}
